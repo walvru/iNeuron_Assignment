{
 "cells": [
  {
   "cell_type": "markdown",
   "id": "8e4e3a3d",
   "metadata": {},
   "source": [
    "1. In the below elements which of them are values or an expression? eg:- values can be integer or string and expressions will be mathematical operators.\n",
    "\n",
    "= * expression\n",
    "= - expression\n",
    "= / expression\n",
    "= +\texpression\n",
    "\n",
    "\n",
    " 'hello'=value,\n",
    " -87.8=value,\n",
    " 6 =value.\n"
   ]
  },
  {
   "cell_type": "markdown",
   "id": "ca3890fe",
   "metadata": {},
   "source": [
    "2. What is the difference between string and variable?\n",
    "\n",
    "=Variables are symbols that you can use to store data in a program. You can think of them as an empty box that you fill with some data or value.\n",
    "\n",
    "=Strings are data, so we can use them to fill up a variable.\n"
   ]
  },
  {
   "cell_type": "markdown",
   "id": "67b96d69",
   "metadata": {},
   "source": [
    "3. Describe three different data types.\n",
    "\n",
    "Int are whole numbers like 1234....\n",
    "Float are decimal number like 3.1415\n",
    "Boolean values are those that represents Yes or No means True or False\n"
   ]
  },
  {
   "cell_type": "markdown",
   "id": "9b560ef9",
   "metadata": {},
   "source": [
    "4. What is an expression made up of? What do all expressions do?\n",
    "\n",
    "=An expression is a combination of operators and operands that is interpreted to produce some other value."
   ]
  },
  {
   "cell_type": "markdown",
   "id": "039f733c",
   "metadata": {},
   "source": [
    "5. This assignment statements, like spam = 10. What is the difference between an expression and a statement?\n",
    "\n",
    "=Statements represent an action or command e.g print statements\n",
    "=Expression is a combination of variables, operations and values that yields a result value."
   ]
  },
  {
   "cell_type": "markdown",
   "id": "a75124d8",
   "metadata": {},
   "source": [
    "6. After running the following code, what does the variable bacon contain?\n",
    "\n",
    "bacon = 22\n",
    "bacon + 1\n",
    "\n",
    "=bacon 23\n"
   ]
  },
  {
   "cell_type": "markdown",
   "id": "b09d37c3",
   "metadata": {},
   "source": [
    "7. What should the values of the following two terms be?\n",
    "\n",
    "='spam' + 'spamspam'= concate “spamspamspam”\n",
    "'spam' * 3= “spamspamspam”\n"
   ]
  },
  {
   "cell_type": "markdown",
   "id": "94fd2d62",
   "metadata": {},
   "source": [
    "8. Why is eggs a valid variable name while 100 is invalid?\n",
    "\n",
    "= because variable name cant start with number.\n"
   ]
  },
  {
   "cell_type": "markdown",
   "id": "1d1fd951",
   "metadata": {},
   "source": [
    "9. What three functions can be used to get the integer, floating-point number, or string version of a value?\n",
    "\n",
    "=The int() , float() , and str( ) functions will evaluate to the integer, floating-point number, and string versions of the value passed to them.\n"
   ]
  },
  {
   "cell_type": "markdown",
   "id": "484ef0c6",
   "metadata": {},
   "source": [
    "10. Why does this expression cause an error? How can you fix it?\n",
    "'I have eaten ' + 99 + ' burritos.'\n",
    "\n",
    "= because ‘I have eaten’ and ‘burritos’ are string and string can't get concate with int\n",
    "'I have eaten ' +’ 99’ + ' burritos.'\n",
    "\n",
    "I have eaten 99 burritos.\n"
   ]
  },
  {
   "cell_type": "code",
   "execution_count": null,
   "id": "03d934ec",
   "metadata": {},
   "outputs": [],
   "source": []
  }
 ],
 "metadata": {
  "kernelspec": {
   "display_name": "Python 3 (ipykernel)",
   "language": "python",
   "name": "python3"
  },
  "language_info": {
   "codemirror_mode": {
    "name": "ipython",
    "version": 3
   },
   "file_extension": ".py",
   "mimetype": "text/x-python",
   "name": "python",
   "nbconvert_exporter": "python",
   "pygments_lexer": "ipython3",
   "version": "3.9.7"
  }
 },
 "nbformat": 4,
 "nbformat_minor": 5
}
